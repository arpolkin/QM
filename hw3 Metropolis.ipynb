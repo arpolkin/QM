{
 "cells": [
  {
   "cell_type": "code",
   "execution_count": 1,
   "metadata": {},
   "outputs": [],
   "source": [
    "import numpy as np\n",
    "import matplotlib.pyplot as plt\n",
    "import scipy as sc\n",
    "import numpy.random as rand\n",
    "rndm = np.random.RandomState(12345)"
   ]
  },
  {
   "cell_type": "code",
   "execution_count": 2,
   "metadata": {},
   "outputs": [],
   "source": [
    "eps = 0.1       #Шаг во времени\n",
    "N = 100       #Число разбиений\n",
    "lam = 2.       #Лямбда\n",
    "delta = 1.1       #Дельта из Розенфельдера\n",
    "nInner = 3       #Число случайных реализаций перед поворотом\n",
    "nTherm = 1000       #Необходимое число шагов до термализации\n",
    "xIn = 0.5*np.ones(N)       #Начальная реализация пути\n",
    "nMean = 1000       #Число путей для усреднения\n",
    "nUncorr = 30       #Число изменений для того, чтобы реализации были нескоррелированные"
   ]
  },
  {
   "cell_type": "code",
   "execution_count": 3,
   "metadata": {},
   "outputs": [],
   "source": [
    "def deltaS(i,xN,xO):       #Изменение действия для i-го x при выборе изменении пути\n",
    "    if i==0:   #Периодические гран условия\n",
    "        dS = (xN-xO[i]) * (\n",
    "        (1/eps+eps/2+eps * lam*(\n",
    "            xN**2 + xO[i]**2\n",
    "            )\n",
    "        )*(xN+xO[i])-1/eps*(\n",
    "        xO[(i+1)]+xO[-2]       #Требую, чтобы -1 соответствовал N-1\n",
    "        ))\n",
    "    elif i == N-1:\n",
    "        dS = (xN-xO[i]) * (\n",
    "        (1/eps+eps/2+eps * lam*(\n",
    "            xN**2 + xO[i]**2\n",
    "            )\n",
    "        )*(xN+xO[i])-1/eps*(\n",
    "        xO[1]+xO[i-1]       #Требую, чтобы N+1 соответствовал 1\n",
    "        ))\n",
    "    else:\n",
    "        dS = (xN-xO[i]) * (\n",
    "            (1/eps+eps/2+eps * lam*(\n",
    "                xN**2 + xO[i]**2\n",
    "                )\n",
    "            )*(xN+xO[i])-1/eps*(\n",
    "            xO[(i+1)]+xO[i-1]  \n",
    "            ))\n",
    "    return dS"
   ]
  },
  {
   "cell_type": "code",
   "execution_count": 4,
   "metadata": {},
   "outputs": [],
   "source": [
    "def step(xx):\n",
    "    xArr = np.copy(xx)\n",
    "    for i in range(0,N):\n",
    "        for _ in range(0,nInner):\n",
    "            z1 = rndm.uniform()       #Случайные числа для реализации шага\n",
    "            z2 = rndm.uniform()\n",
    "            xNew = xArr[i] + delta*(z1-0.5)\n",
    "            if np.exp(-deltaS(i,xNew,xArr))>z2 or deltaS(i,xNew,xArr)<0:        #Вероятностное изменение x_i\n",
    "                xArr[i] = xNew\n",
    "                if i == 0:\n",
    "                    xArr[-1] = xNew\n",
    "                if i == N-1:\n",
    "                    xArr[0] = xNew\n",
    "    return (xArr, xx)"
   ]
  },
  {
   "cell_type": "code",
   "execution_count": 5,
   "metadata": {},
   "outputs": [],
   "source": [
    "def therm(xx):\n",
    "    xCur = np.copy(xx)\n",
    "    for _ in range (0,nTherm):       #Изменение реализации столько раз, чтобы она забыла про начальные условия\n",
    "        xCur, xPrev = step(xCur)\n",
    "    return (xCur,xPrev)"
   ]
  },
  {
   "cell_type": "code",
   "execution_count": 6,
   "metadata": {},
   "outputs": [],
   "source": [
    "def e(x):       #Энергия с учётом вириальной теоремы\n",
    "    return np.mean(x**2 + 3*lam*x**4)"
   ]
  },
  {
   "cell_type": "code",
   "execution_count": 7,
   "metadata": {},
   "outputs": [],
   "source": [
    "def compute(xx):\n",
    "    xSet,_ = therm(xx)      #Термализованная реализация\n",
    "    enSet = np.empty(0)\n",
    "    pathSet = np.empty([N,nMean])\n",
    "    for j in range(0,nMean):\n",
    "        for _ in range(0,nUncorr):\n",
    "            xSet, _ = step(xSet)      #Конкретный путь\n",
    "        enSet = np.append(enSet,e(xSet))\n",
    "        pathSet[:,j] = xSet\n",
    "        print(j/nMean, end='\\r')\n",
    "    return (enSet, pathSet)"
   ]
  },
  {
   "cell_type": "code",
   "execution_count": 8,
   "metadata": {},
   "outputs": [],
   "source": [
    "def corrFuncT(pathSet1):     #Определяю корреляционную функцию как среднее \\sum_j \\mean{x_{j+t},x_{j}}\n",
    "    corrF = np.zeros(N)\n",
    "    for n in range(0,N):\n",
    "        arr = np.zeros(N-n)\n",
    "        for j in range(0,N-n):\n",
    "            arr[j] = np.mean(pathSet1[j,:]*pathSet1[j+n,:])\n",
    "        corrF[n] = np.mean(arr)\n",
    "    return corrF\n",
    "\n",
    "def corrTime(pathSet1):     #Определяю корр время как время, за которое корр функция затухает в E раз\n",
    "    return np.min(np.arange(N)[corrFuncT(pathSet1)<corrFuncT(pathSet1)[0]/np.exp(1)])*eps"
   ]
  },
  {
   "cell_type": "code",
   "execution_count": 9,
   "metadata": {},
   "outputs": [],
   "source": [
    "def binning(nSize, arr):    #Функция для стохастических ошибок после многих усреднений\n",
    "    partAv = np.zeros(0)\n",
    "    for i in range(0,len(arr),nSize):\n",
    "        el = 0\n",
    "        for j in range(i,i+nSize):\n",
    "            el += 1/nSize*arr[j%N]\n",
    "        partAv = np.append(partAv,el)\n",
    "#        print(len(partAv))\n",
    "    return partAv\n",
    "\n"
   ]
  },
  {
   "cell_type": "code",
   "execution_count": 10,
   "metadata": {},
   "outputs": [],
   "source": [
    "def ranTake(enAr):\n",
    "    ar = np.zeros(0)\n",
    "    for _ in range(0,len(enAr)):\n",
    "        ar = np.append(ar,enAr[rndm.randint(0,len(enAr))])\n",
    "    return ar\n",
    "\n",
    "def statErr(enAr,nShuffle=20): #Создаю больше реализаций из исходной, считая их независимыми и перемешивая, воссоздавая исходное распределение, считая общую дисперсию\n",
    "    arbArr = np.zeros(0)\n",
    "    for i in range(0,nShuffle):\n",
    "        arbArr = np.append(arbArr,np.mean(ranTake(enAr)))\n",
    "    return (np.mean(arbArr**2)-np.mean(arbArr)**2)\n",
    "\n",
    "def binStatErr(arrEn):   #При биннинге избавиться от корреляций, вовремя останавливаясь\n",
    "    i = 4\n",
    "    varArr = np.array([0,(np.mean(arrEn**2)-np.mean(arrEn)**2)])\n",
    "    difArr = np.zeros(0)\n",
    "    while i<int(nMean):\n",
    "        asd11 = binning(int(nMean/i),arrEn)\n",
    "        varArr[0] = (np.mean(asd11**2)-np.mean(asd11)**2)\n",
    "        difArr = np.append(difArr,((varArr[0]-varArr[1])/varArr[0]))\n",
    "        if len(difArr)>2 and abs(difArr[-1]-difArr[-2])<0.1: #Останавливаюсь, если относительная дисперсия перестаёт меняться\n",
    "            sysErr = varArr[1]\n",
    "            break\n",
    "        i *=2\n",
    "        varArr[1] = varArr[0]\n",
    "    return varArr[1]"
   ]
  },
  {
   "cell_type": "code",
   "execution_count": 11,
   "metadata": {},
   "outputs": [
    {
     "name": "stdout",
     "output_type": "stream",
     "text": [
      "0.999\r"
     ]
    }
   ],
   "source": [
    "enComp, pathComp = compute(xIn)"
   ]
  },
  {
   "cell_type": "code",
   "execution_count": null,
   "metadata": {},
   "outputs": [],
   "source": []
  },
  {
   "cell_type": "code",
   "execution_count": 12,
   "metadata": {},
   "outputs": [],
   "source": [
    "errSt = statErr(enComp)\n",
    "errStBin = binStatErr(enComp)\n",
    "gr_en = np.mean(enComp)\n",
    "time = corrTime(pathComp)\n"
   ]
  },
  {
   "cell_type": "code",
   "execution_count": 13,
   "metadata": {
    "scrolled": true
   },
   "outputs": [
    {
     "data": {
      "text/plain": [
       "[<matplotlib.lines.Line2D at 0x7fd5840ef050>]"
      ]
     },
     "execution_count": 13,
     "metadata": {},
     "output_type": "execute_result"
    },
    {
     "data": {
      "image/png": "[encoded data removed]",
      "text/plain": [
       "<Figure size 432x288 with 1 Axes>"
      ]
     },
     "metadata": {
      "needs_background": "light"
     },
     "output_type": "display_data"
    }
   ],
   "source": [
    "plt.plot(corrFuncT(pathComp))"
   ]
  },
  {
   "cell_type": "code",
   "execution_count": 14,
   "metadata": {},
   "outputs": [
    {
     "name": "stdout",
     "output_type": "stream",
     "text": [
      "0.999\r"
     ]
    }
   ],
   "source": [
    "N = 50\n",
    "eps=0.2\n",
    "enComp1, pathComp1 = compute(xIn[:50])"
   ]
  },
  {
   "cell_type": "code",
   "execution_count": 15,
   "metadata": {},
   "outputs": [],
   "source": [
    "errSt1 = statErr(enComp1)\n",
    "#errSt1Bin = binStatErr(enComp1)-errSyst1\n",
    "gr_en1 = np.mean(enComp1)\n",
    "errSYSTEM1 = abs(errSt-errSt1)\n",
    "#errSYSTEM2 = abs(errStBin-errSt1Bin)"
   ]
  },
  {
   "cell_type": "code",
   "execution_count": 16,
   "metadata": {},
   "outputs": [
    {
     "name": "stdout",
     "output_type": "stream",
     "text": [
      "Energy = 0.9419;\n",
      "Correlation Time = 0.5000;\n",
      "Systematic Error = 0.0063;\n",
      "Stochastic Error = 0.0109;\n"
     ]
    }
   ],
   "source": [
    "print(\"Energy = {:.4f};\\nCorrelation Time = {:.4f};\\nSystematic Error = {:.4f};\\nStochastic Error = {:.4f};\"\n",
    "      .format(gr_en, time, errSYSTEM1**0.5, errSt**0.5))"
   ]
  },
  {
   "cell_type": "code",
   "execution_count": 17,
   "metadata": {
    "scrolled": true
   },
   "outputs": [
    {
     "name": "stdout",
     "output_type": "stream",
     "text": [
      "Energy from matrix 150x150 matrix= 0.951568\n"
     ]
    }
   ],
   "source": [
    "print(\"Energy from matrix 150x150 matrix= 0.951568\")"
   ]
  },
  {
   "cell_type": "code",
   "execution_count": 18,
   "metadata": {},
   "outputs": [
    {
     "data": {
      "text/plain": [
       "'\\nНичего более умного для измерения порядка систематической ошибки, \\nкроме как изменения размера система и вычитания разностей ошибок я не придумал\\n\\nТе ошибки, которые не принтятся в принципе хуже потому что недостаточно большое число выборки при биннинге\\n'"
      ]
     },
     "execution_count": 18,
     "metadata": {},
     "output_type": "execute_result"
    }
   ],
   "source": [
    "\"\"\"\n",
    "Ничего более умного для измерения порядка систематической ошибки, \n",
    "кроме как изменения размера система и вычитания разностей ошибок я не придумал\n",
    "\n",
    "Те ошибки, которые не принтятся в принципе хуже потому что недостаточно большое число выборки при биннинге\n",
    "\"\"\""
   ]
  }
 ],
 "metadata": {
  "kernelspec": {
   "display_name": "Python 3",
   "language": "python",
   "name": "python3"
  },
  "language_info": {
   "codemirror_mode": {
    "name": "ipython",
    "version": 3
   },
   "file_extension": ".py",
   "mimetype": "text/x-python",
   "name": "python",
   "nbconvert_exporter": "python",
   "pygments_lexer": "ipython3",
   "version": "3.7.6"
  }
 },
 "nbformat": 4,
 "nbformat_minor": 2
}
